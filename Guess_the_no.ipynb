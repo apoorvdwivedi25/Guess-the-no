{
  "nbformat": 4,
  "nbformat_minor": 0,
  "metadata": {
    "colab": {
      "provenance": [],
      "authorship_tag": "ABX9TyMJLu5a99yNxGK6Fmdnn/p+",
      "include_colab_link": true
    },
    "kernelspec": {
      "name": "python3",
      "display_name": "Python 3"
    },
    "language_info": {
      "name": "python"
    }
  },
  "cells": [
    {
      "cell_type": "markdown",
      "metadata": {
        "id": "view-in-github",
        "colab_type": "text"
      },
      "source": [
        "<a href=\"https://colab.research.google.com/github/apoorvdwivedi25/Guess-the-no/blob/main/Guess_the_no.ipynb\" target=\"_parent\"><img src=\"https://colab.research.google.com/assets/colab-badge.svg\" alt=\"Open In Colab\"/></a>"
      ]
    },
    {
      "cell_type": "code",
      "execution_count": 1,
      "metadata": {
        "colab": {
          "base_uri": "https://localhost:8080/",
          "height": 383
        },
        "id": "ljEejDEXt47_",
        "outputId": "7af78dca-a7d8-46e8-8404-f655cd2ff976"
      },
      "outputs": [
        {
          "output_type": "error",
          "ename": "ModuleNotFoundError",
          "evalue": "No module named 'art'",
          "traceback": [
            "\u001b[0;31m---------------------------------------------------------------------------\u001b[0m",
            "\u001b[0;31mModuleNotFoundError\u001b[0m                       Traceback (most recent call last)",
            "\u001b[0;32m<ipython-input-1-21b82d86815d>\u001b[0m in \u001b[0;36m<cell line: 9>\u001b[0;34m()\u001b[0m\n\u001b[1;32m      7\u001b[0m \u001b[0;34m\u001b[0m\u001b[0m\n\u001b[1;32m      8\u001b[0m \u001b[0;32mfrom\u001b[0m \u001b[0mrandom\u001b[0m \u001b[0;32mimport\u001b[0m \u001b[0mrandint\u001b[0m\u001b[0;34m\u001b[0m\u001b[0;34m\u001b[0m\u001b[0m\n\u001b[0;32m----> 9\u001b[0;31m \u001b[0;32mfrom\u001b[0m \u001b[0mart\u001b[0m \u001b[0;32mimport\u001b[0m \u001b[0mlogo\u001b[0m\u001b[0;34m\u001b[0m\u001b[0;34m\u001b[0m\u001b[0m\n\u001b[0m\u001b[1;32m     10\u001b[0m \u001b[0;34m\u001b[0m\u001b[0m\n\u001b[1;32m     11\u001b[0m \u001b[0mEASY_LEVEL_TURNS\u001b[0m \u001b[0;34m=\u001b[0m \u001b[0;36m10\u001b[0m\u001b[0;34m\u001b[0m\u001b[0;34m\u001b[0m\u001b[0m\n",
            "\u001b[0;31mModuleNotFoundError\u001b[0m: No module named 'art'",
            "",
            "\u001b[0;31m---------------------------------------------------------------------------\u001b[0;32m\nNOTE: If your import is failing due to a missing package, you can\nmanually install dependencies using either !pip or !apt.\n\nTo view examples of installing some common dependencies, click the\n\"Open Examples\" button below.\n\u001b[0;31m---------------------------------------------------------------------------\u001b[0m\n"
          ],
          "errorDetails": {
            "actions": [
              {
                "action": "open_url",
                "actionText": "Open Examples",
                "url": "/notebooks/snippets/importing_libraries.ipynb"
              }
            ]
          }
        }
      ],
      "source": [
        "logo = \"\"\"\n",
        "  / _ \\_   _  ___  ___ ___  /__   \\ |__   ___    /\\ \\ \\_   _ _ __ ___ | |__   ___ _ __\n",
        " / /_\\/ | | |/ _ \\/ __/ __|   / /\\/ '_ \\ / _ \\  /  \\/ / | | | '_ ` _ \\| '_ \\ / _ \\ '__|\n",
        "/ /_\\\\| |_| |  __/\\__ \\__ \\  / /  | | | |  __/ / /\\  /| |_| | | | | | | |_) |  __/ |\n",
        "\\____/ \\__,_|\\___||___/___/  \\/   |_| |_|\\___| \\_\\ \\/  \\__,_|_| |_| |_|_.__/ \\___|_|\n",
        "\"\"\"\n",
        "\n",
        "from random import randint\n",
        "from art import logo\n",
        "\n",
        "EASY_LEVEL_TURNS = 10\n",
        "HARD_LEVEL_TURNS = 5\n",
        "\n",
        "#Function to check user's guess against actual answer.\n",
        "def check_answer(guess, answer, turns):\n",
        "  \"\"\"checks answer against guess. Returns the number of turns remaining.\"\"\"\n",
        "  if guess > answer:\n",
        "    print(\"Too high.\")\n",
        "    return turns - 1\n",
        "  elif guess < answer:\n",
        "    print(\"Too low.\")\n",
        "    return turns - 1\n",
        "  else:\n",
        "    print(f\"You got it! The answer was {answer}.\")\n",
        "\n",
        "#Make function to set difficulty.\n",
        "def set_difficulty():\n",
        "  level = input(\"Choose a difficulty. Type 'easy' or 'hard': \")\n",
        "  if level == \"easy\":\n",
        "    return EASY_LEVEL_TURNS\n",
        "  else:\n",
        "    return HARD_LEVEL_TURNS\n",
        "\n",
        "def game():\n",
        "  print(logo)\n",
        "  #Choosing a random number between 1 and 100.\n",
        "  print(\"Welcome to the Number Guessing Game!\")\n",
        "  print(\"I'm thinking of a number between 1 and 100.\")\n",
        "  answer = randint(1, 100)\n",
        "  print(f\"Pssst, the correct answer is {answer}\")\n",
        "\n",
        "  turns = set_difficulty()\n",
        "  #Repeat the guessing functionality if they get it wrong.\n",
        "  guess = 0\n",
        "  while guess != answer:\n",
        "    print(f\"You have {turns} attempts remaining to guess the number.\")\n",
        "\n",
        "    #Let the user guess a number.\n",
        "    guess = int(input(\"Make a guess: \"))\n",
        "\n",
        "    #Track the number of turns and reduce by 1 if they get it wrong.\n",
        "    turns = check_answer(guess, answer, turns)\n",
        "    if turns == 0:\n",
        "      print(\"You've run out of guesses, you lose.\")\n",
        "      return\n",
        "    elif guess != answer:\n",
        "      print(\"Guess again.\")\n",
        "\n",
        "\n",
        "game()"
      ]
    }
  ]
}